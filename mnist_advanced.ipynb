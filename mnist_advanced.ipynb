{
 "cells": [
  {
   "cell_type": "markdown",
   "metadata": {},
   "source": [
    "_Author: Peter Sadowski_"
   ]
  },
  {
   "cell_type": "markdown",
   "metadata": {},
   "source": [
    "# Advanced Keras Tutorial\n",
    "We will build a model that reads in two MNIST digits and outputs their sum.\n",
    "This tutorial introduces:\n",
    "\n",
    "1) Functional API for complex models.\n",
    "\n",
    "2) Data generators in Keras.\n",
    " \n"
   ]
  },
  {
   "cell_type": "code",
   "execution_count": 1,
   "metadata": {},
   "outputs": [
    {
     "name": "stderr",
     "output_type": "stream",
     "text": [
      "Using TensorFlow backend.\n"
     ]
    }
   ],
   "source": [
    "import numpy as np\n",
    "import numpy.random\n",
    "import matplotlib.pyplot as plt\n",
    "%matplotlib inline\n",
    "import theano\n",
    "import keras\n",
    "from keras.datasets import mnist\n",
    "from keras.models import Model\n",
    "from keras.layers import Dense, Dropout, Activation, Input, Convolution2D, Flatten, merge\n",
    "from keras.utils import np_utils\n",
    "from keras.optimizers import SGD, Adam"
   ]
  },
  {
   "cell_type": "markdown",
   "metadata": {},
   "source": [
    "## Define data generators for training and validation.\n",
    "\n",
    "+ Before we passed the entire dataset as a NumPy-array to Keras. During training Keras would slice the array to extract one batch after another.\n",
    "+ A generator returns the next iteration in a loop when it is called.\n",
    "+ The following shows a generator that loops indefinitely over a dataset. This is especially useful when the dataset does not fit into memory. In that case the dataset can be loaded partially at every iteration.\n",
    "+ Using a generator also gives more flexibility about processing the data.\n",
    "+ Here we use the generator to randomly draw two images from the training data. It then calculates the sum of their targets. It returns one-hot vectors of that sum and the original digits."
   ]
  },
  {
   "cell_type": "code",
   "execution_count": 4,
   "metadata": {
    "collapsed": true
   },
   "outputs": [],
   "source": [
    "# The following function is used to serve up both train and validation data.\n",
    "def data_generator(X, Y, batchsize):\n",
    "    nb_classes = 10\n",
    "    N = X.shape[0]\n",
    "    while True:\n",
    "        indices1 = np.random.randint(low=0, high=N, size=(batchsize,)) # randomly draw a set of sample indices\n",
    "        indices2 = np.random.randint(low=0, high=N, size=(batchsize,))\n",
    "        \n",
    "        X1 = X[indices1,...].astype('float32') / 255.0\n",
    "        X2 = X[indices2,...].astype('float32') / 255.0\n",
    "        Y1 = Y[indices1]\n",
    "        Y2 = Y[indices2]\n",
    "        T  = (Y1 + Y2) # Sum of values.\n",
    "        \n",
    "        X1 = np.expand_dims(X1, axis=1) # For conv with theano, shape=(batchsize, channels, row, col).\n",
    "        X2 = np.expand_dims(X2, axis=1) # We are just adding a dummy dimension saying that there is one channel.\n",
    "        \n",
    "        Y1 = np_utils.to_categorical(Y1, nb_classes)\n",
    "        Y2 = np_utils.to_categorical(Y2, nb_classes)\n",
    "        T  = np_utils.to_categorical(T, 19) # 19 possible values.\n",
    "        \n",
    "        yield {'input1':X1 , 'input2':X2},  {'out':T, 'aux1':Y1, 'aux2':Y2}\n",
    "        \n",
    "# Load data.\n",
    "(X_train, Y_train), (X_valid, Y_valid) = mnist.load_data() # Shape = (N,28,28), (N,)\n",
    "# Create generators.\n",
    "batchsize  = 200 \n",
    "data_train = data_generator(X_train, Y_train, batchsize)\n",
    "data_valid = data_generator(X_valid, Y_valid, batchsize)"
   ]
  },
  {
   "cell_type": "code",
   "execution_count": 5,
   "metadata": {},
   "outputs": [
    {
     "data": {
      "image/png": "[encoded data removed]",
      "text/plain": [
       "<matplotlib.figure.Figure at 0x11dc38898>"
      ]
     },
     "metadata": {},
     "output_type": "display_data"
    }
   ],
   "source": [
    "# Plot examples of the data.\n",
    "inputs, outputs = next(data_train)\n",
    "Xbatch = inputs['input1']\n",
    "plt.figure(1, figsize=(12,3))\n",
    "for i in range(10):\n",
    "    plt.subplot(2,10,i+1)\n",
    "    plt.imshow(inputs['input1'][i].reshape(28,28), cmap='gray', interpolation='nearest')\n",
    "    plt.xticks([])\n",
    "    plt.yticks([])\n",
    "    plt.title('Target=%d' % np.argmax(outputs['out'][i]))\n",
    "    plt.subplot(2,10,10+i+1)\n",
    "    plt.imshow(inputs['input2'][i].reshape(28,28), cmap='gray', interpolation='nearest')\n",
    "    plt.xticks([])\n",
    "    plt.yticks([])"
   ]
  },
  {
   "cell_type": "markdown",
   "metadata": {},
   "source": [
    "# Define Keras Model with the Functional API\n",
    "\n",
    "Here we define a model that takes two random MNIST images as inputs, and tries to predict the sum of the two numbers. In the model, we can define auxiliary outputs that try to predict the values of each image individually, but the model trains to high accuracy even if we assign zero weight to the auxiliary loss functions."
   ]
  },
  {
   "cell_type": "code",
   "execution_count": 14,
   "metadata": {},
   "outputs": [
    {
     "name": "stdout",
     "output_type": "stream",
     "text": [
      "____________________________________________________________________________________________________\n",
      "Layer (type)                     Output Shape          Param #     Connected to                     \n",
      "====================================================================================================\n",
      "input1 (InputLayer)              (None, 1, 28, 28)     0                                            \n",
      "____________________________________________________________________________________________________\n",
      "input2 (InputLayer)              (None, 1, 28, 28)     0                                            \n",
      "____________________________________________________________________________________________________\n",
      "conv2d_3 (Conv2D)                (None, 1, 10, 32)     43936       input1[0][0]                     \n",
      "                                                                   input2[0][0]                     \n",
      "____________________________________________________________________________________________________\n",
      "flatten_5 (Flatten)              (None, 320)           0           conv2d_3[0][0]                   \n",
      "____________________________________________________________________________________________________\n",
      "flatten_6 (Flatten)              (None, 320)           0           conv2d_3[1][0]                   \n",
      "____________________________________________________________________________________________________\n",
      "dense_7 (Dense)                  (None, 256)           82176       flatten_5[0][0]                  \n",
      "                                                                   flatten_6[0][0]                  \n",
      "____________________________________________________________________________________________________\n",
      "concatenate_3 (Concatenate)      (None, 512)           0           dense_7[0][0]                    \n",
      "                                                                   dense_7[1][0]                    \n",
      "____________________________________________________________________________________________________\n",
      "dense_9 (Dense)                  (None, 512)           262656      concatenate_3[0][0]              \n",
      "____________________________________________________________________________________________________\n",
      "dense_8 (Dense)                  (None, 10)            2570        dense_7[0][0]                    \n",
      "                                                                   dense_7[1][0]                    \n",
      "____________________________________________________________________________________________________\n",
      "out (Dense)                      (None, 19)            9747        dense_9[0][0]                    \n",
      "____________________________________________________________________________________________________\n",
      "aux1 (Activation)                (None, 10)            0           dense_8[0][0]                    \n",
      "____________________________________________________________________________________________________\n",
      "aux2 (Activation)                (None, 10)            0           dense_8[1][0]                    \n",
      "====================================================================================================\n",
      "Total params: 401,085\n",
      "Trainable params: 401,085\n",
      "Non-trainable params: 0\n",
      "____________________________________________________________________________________________________\n"
     ]
    }
   ],
   "source": [
    "# Input data.\n",
    "input1   = Input(shape=(1, 28,28), dtype='float32', name='input1') # Argument 'name' must match name in dictionary.\n",
    "input2   = Input(shape=(1, 28,28), dtype='float32', name='input2')\n",
    "\n",
    "# Layer one: Single convolutional layer applied to each input independently, with \"shared weights.\"\n",
    "nb_filter      = 32     # Number of convolutional kernels.\n",
    "nb_row, nb_col = 7,7   # Convolution kernel size.\n",
    "subsample      = (3,3) # Step size for convolution kernels.\n",
    "conv  = Convolution2D(nb_filter, (nb_row, nb_col), activation='relu', padding='same', strides=subsample) # shared layer\n",
    "x1    = conv(input1) # Layer object conv transforms data.\n",
    "x2    = conv(input2)\n",
    "\n",
    "# Flatten data: transform from (28,28) to (784,)\n",
    "x1 = Flatten()(x1)\n",
    "x2 = Flatten()(x2)\n",
    "\n",
    "# Layer two: Single fully-connected layer applied to each input independently, with shared weights.\n",
    "layer = Dense(256, activation='relu')\n",
    "x1 = layer(x1)\n",
    "x2 = layer(x2)\n",
    "\n",
    "# Auxiliary softmax layers try to classify digits. \n",
    "# The output of these layers aren't fed into the next layer.\n",
    "layer = Dense(10) # These weights are shared.\n",
    "aux1  = Activation(activation='softmax', name='aux1')(layer(x1)) # Output layers must be named.\n",
    "aux2  = Activation(activation='softmax', name='aux2')(layer(x2))\n",
    "\n",
    "# Merge hidden representations.\n",
    "x = keras.layers.concatenate([x1, x2])\n",
    "\n",
    "# More dense layers then output.\n",
    "x   = Dense(512, activation='relu')(x)\n",
    "out = Dense(19, activation='softmax', name='out')(x) # Output layers must be named.\n",
    "\n",
    "# Create model object that puts it all together.\n",
    "model = Model(inputs=[input1, input2], outputs=[out, aux1, aux2])\n",
    "model.summary()"
   ]
  },
  {
   "cell_type": "markdown",
   "metadata": {},
   "source": [
    "# Optimization"
   ]
  },
  {
   "cell_type": "code",
   "execution_count": 16,
   "metadata": {
    "collapsed": true
   },
   "outputs": [],
   "source": [
    "optimizer = Adam(lr=0.001, beta_1=0.99, beta_2=0.999, epsilon=1e-08) # Optimization hyperparameters.\n",
    "\n",
    "model.compile(optimizer=optimizer,\n",
    "              loss={'out':'categorical_crossentropy',\n",
    "                    'aux1':'categorical_crossentropy',\n",
    "                    'aux2':'categorical_crossentropy'},\n",
    "#               loss_weights={'out': 1.0, 'aux1': 1.0, 'aux2':1.0}, # These can be tuned.\n",
    "              loss_weights={'out': 1.0, 'aux1': 0.0, 'aux2':0.0}, # These can be tuned.\n",
    "              metrics=['accuracy'])\n"
   ]
  },
  {
   "cell_type": "markdown",
   "metadata": {},
   "source": [
    "## Train the model."
   ]
  },
  {
   "cell_type": "code",
   "execution_count": 18,
   "metadata": {},
   "outputs": [
    {
     "name": "stdout",
     "output_type": "stream",
     "text": [
      "Epoch 1/2\n",
      "100/100 [==============================] - 4s - loss: 0.6411 - out_loss: 0.6411 - aux1_loss: 2.5383 - aux2_loss: 2.5546 - out_acc: 0.8118 - aux1_acc: 0.1722 - aux2_acc: 0.1689 - val_loss: 0.5216 - val_out_loss: 0.5216 - val_aux1_loss: 2.5026 - val_aux2_loss: 2.5042 - val_out_acc: 0.8477 - val_aux1_acc: 0.1520 - val_aux2_acc: 0.1527\n",
      "Epoch 2/2\n",
      "100/100 [==============================] - 4s - loss: 0.4412 - out_loss: 0.4412 - aux1_loss: 2.4938 - aux2_loss: 2.5128 - out_acc: 0.8713 - aux1_acc: 0.1463 - aux2_acc: 0.1417 - val_loss: 0.3621 - val_out_loss: 0.3621 - val_aux1_loss: 2.5073 - val_aux2_loss: 2.4965 - val_out_acc: 0.8914 - val_aux1_acc: 0.1246 - val_aux2_acc: 0.1289\n"
     ]
    }
   ],
   "source": [
    "# Callbacks can be used to stop early, decrease learning rate, checkpoint the model, etc.\n",
    "#from keras.callbacks import EarlyStopping\n",
    "#stopping  = keras.callbacks.EarlyStopping(monitor='val_loss', patience=0, verbose=0, mode='auto')\n",
    "callbacks = []#[stopping]\n",
    "\n",
    "# The fit_generator function loads data batches on the fly, instead of transfering entire data set to the gpu.\n",
    "history   = model.fit_generator(generator=data_train, steps_per_epoch=100, \n",
    "                              epochs=5, verbose=1,\n",
    "                              callbacks=callbacks, \n",
    "                              validation_data=data_valid, validation_steps=100)"
   ]
  },
  {
   "cell_type": "code",
   "execution_count": 19,
   "metadata": {},
   "outputs": [
    {
     "data": {
      "text/plain": [
       "<matplotlib.legend.Legend at 0x125689278>"
      ]
     },
     "execution_count": 19,
     "metadata": {},
     "output_type": "execute_result"
    },
    {
     "data": {
      "image/png": "[encoded data removed]",
      "text/plain": [
       "<matplotlib.figure.Figure at 0x123ed3400>"
      ]
     },
     "metadata": {},
     "output_type": "display_data"
    }
   ],
   "source": [
    "# Plot loss trajectory throughout training.\n",
    "plt.figure(1, figsize=(10,5))\n",
    "plt.plot(history.history['out_acc'], label='primary')\n",
    "plt.plot(history.history['aux1_acc'], label='aux1')\n",
    "plt.plot(history.history['aux2_acc'], label='aux2')\n",
    "plt.xlabel('Epoch')\n",
    "plt.ylabel('Accuracy')\n",
    "plt.legend()"
   ]
  },
  {
   "cell_type": "markdown",
   "metadata": {},
   "source": [
    "# Post-training analysis."
   ]
  },
  {
   "cell_type": "code",
   "execution_count": 20,
   "metadata": {},
   "outputs": [
    {
     "data": {
      "image/png": "[encoded data removed]",
      "text/plain": [
       "<matplotlib.figure.Figure at 0x123e95f60>"
      ]
     },
     "metadata": {},
     "output_type": "display_data"
    }
   ],
   "source": [
    "# Plot examples where the predictions were wrong.\n",
    "inputs, outputs = data_valid.__next__()\n",
    "plt.figure(1, figsize=(12,3))\n",
    "i = 0\n",
    "while i < 10:\n",
    "    inputs, outputs = data_valid.__next__()\n",
    "    predictions = model.predict(inputs)\n",
    "    j = 0\n",
    "    while j < 100:\n",
    "        yhat   = predictions[0][j].argmax(axis=-1) # predictions is list: [out, aux1, aux2]\n",
    "        y      = np.argmax(outputs['out'][j])\n",
    "        input1 = inputs['input1'][j].reshape(28,28)\n",
    "        input2 = inputs['input2'][j].reshape(28,28)\n",
    "        j += 1\n",
    "        if yhat == y:\n",
    "            continue\n",
    "        \n",
    "        plt.subplot(2,10,i+1)\n",
    "        plt.imshow(input1, cmap='gray', interpolation='nearest')\n",
    "        plt.xticks([])\n",
    "        plt.yticks([])\n",
    "        plt.title('Pred=%d' % yhat)\n",
    "        plt.title('y=%d,\\n$\\hat{y}$=%d' % (y,yhat))\n",
    "        plt.subplot(2,10,10+i+1)\n",
    "        plt.imshow(input2, cmap='gray', interpolation='nearest')\n",
    "        plt.xticks([])\n",
    "        plt.yticks([])\n",
    "        i += 1\n",
    "        if not i<10:\n",
    "            break\n",
    "        "
   ]
  }
 ],
 "metadata": {
  "kernelspec": {
   "display_name": "Python 3",
   "language": "python",
   "name": "python3"
  },
  "language_info": {
   "codemirror_mode": {
    "name": "ipython",
    "version": 3
   },
   "file_extension": ".py",
   "mimetype": "text/x-python",
   "name": "python",
   "nbconvert_exporter": "python",
   "pygments_lexer": "ipython3",
   "version": "3.6.1"
  }
 },
 "nbformat": 4,
 "nbformat_minor": 1
}
